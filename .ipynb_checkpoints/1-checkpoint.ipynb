{
 "cells": [
  {
   "cell_type": "code",
   "execution_count": 2,
   "metadata": {},
   "outputs": [],
   "source": [
    "import pandas as pd # type: ignore\n",
    "import numpy as np#type: ignore\n",
    "from sklearn.model_selection import train_test_split#type: ignore\n",
    "from sklearn.preprocessing import LabelEncoder#type: ignore\n",
    "from sklearn.ensemble import RandomForestRegressor, RandomForestClassifier#type: ignore\n",
    "from sklearn.metrics import mean_absolute_error, mean_squared_error, accuracy_score, classification_report#type: ignore\n",
    "\n"
   ]
  },
  {
   "cell_type": "code",
   "execution_count": 4,
   "metadata": {},
   "outputs": [],
   "source": [
    "file_path = 'data.csv'\n",
    "restaurant_data = pd.read_csv(file_path)\n",
    "\n",
    "columns_to_drop = [\n",
    "    'business_phone_number', 'business_location', 'Neighborhoods',\n",
    "    'SF Find Neighborhoods', 'Current Police Districts', \n",
    "    'Current Supervisor Districts', 'Analysis Neighborhoods'\n",
    "]\n",
    "restaurant_data = restaurant_data.drop(columns=columns_to_drop)\n",
    "\n",
    "restaurant_data = restaurant_data.dropna()\n",
    "\n",
    "for col in ['inspection_type', 'business_city', 'business_state']:\n",
    "    le = LabelEncoder()\n",
    "    restaurant_data[col] = le.fit_transform(restaurant_data[col].astype(str))\n",
    "\n"
   ]
  },
  {
   "cell_type": "code",
   "execution_count": 6,
   "metadata": {},
   "outputs": [
    {
     "name": "stderr",
     "output_type": "stream",
     "text": [
      "/var/folders/6q/3mcp7r7947jcjfnlck3m700c0000gn/T/ipykernel_22066/2331735747.py:1: UserWarning: Could not infer format, so each element will be parsed individually, falling back to `dateutil`. To ensure parsing is consistent and as-expected, please specify a format.\n",
      "  restaurant_data['inspection_date'] = pd.to_datetime(restaurant_data['inspection_date'], errors='coerce')\n"
     ]
    }
   ],
   "source": [
    "restaurant_data['inspection_date'] = pd.to_datetime(restaurant_data['inspection_date'], errors='coerce')\n",
    "restaurant_data['inspection_year'] = restaurant_data['inspection_date'].dt.year\n",
    "restaurant_data['inspection_month'] = restaurant_data['inspection_date'].dt.month\n",
    "restaurant_data['inspection_day'] = restaurant_data['inspection_date'].dt.day\n",
    "\n",
    "# Filter score and risk data, dropping unnecessary columns\n",
    "score_data = restaurant_data.dropna(subset=['inspection_score'])\n",
    "features_score = score_data.drop(columns=['inspection_score', 'inspection_date', 'risk_category', 'violation_id', 'violation_description', 'business_name', 'business_id'])\n",
    "\n",
    "risk_data = restaurant_data.dropna(subset=['risk_category'])\n",
    "features_risk = risk_data.drop(columns=['risk_category', 'inspection_date', 'inspection_score', 'violation_id', 'violation_description', 'business_name', 'business_id'])\n",
    "\n",
    "# Apply get_dummies to convert categorical data to numeric\n",
    "features_score = pd.get_dummies(features_score)\n",
    "features_risk = pd.get_dummies(features_risk)\n",
    "\n",
    "# Align test data columns to training data for `features_score`\n",
    "X_train_score, X_test_score, y_train_score, y_test_score = train_test_split(\n",
    "    features_score, score_data['inspection_score'], test_size=0.9, random_state=42\n",
    ")\n",
    "X_test_score = X_test_score.reindex(columns=X_train_score.columns, fill_value=0)\n",
    "\n",
    "# Align test data columns to training data for `features_risk`\n",
    "X_train_risk, X_test_risk, y_train_risk, y_test_risk = train_test_split(\n",
    "    features_risk, risk_data['risk_category'], test_size=0.9, random_state=42\n",
    ")\n",
    "X_test_risk = X_test_risk.reindex(columns=X_train_risk.columns, fill_value=0)\n",
    "\n",
    "# Prepare data for good quality prediction\n",
    "GOOD_QUALITY_THRESHOLD = 90\n",
    "restaurant_data['is_good_quality'] = np.where(restaurant_data['inspection_score'] >= GOOD_QUALITY_THRESHOLD, 1, 0)\n",
    "restaurant_data['good_quality_next_year'] = restaurant_data.sort_values(by=['business_id', 'inspection_date']) \\\n",
    "    .groupby('business_id')['is_good_quality'].shift(-1)\n",
    "restaurant_data = restaurant_data.dropna(subset=['good_quality_next_year'])\n",
    "\n",
    "features_quality_prediction = restaurant_data.drop(columns=[\n",
    "    'inspection_score', 'inspection_date', 'is_good_quality', 'violation_id', \n",
    "    'violation_description', 'good_quality_next_year', 'business_name', 'business_id'\n",
    "])\n",
    "features_quality_prediction = pd.get_dummies(features_quality_prediction)\n",
    "target_quality_prediction = restaurant_data['good_quality_next_year']\n",
    "\n",
    "# Align test data columns to training data for `features_quality_prediction`\n",
    "X_train_quality, X_test_quality, y_train_quality, y_test_quality = train_test_split(\n",
    "    features_quality_prediction, target_quality_prediction, test_size=0.9, random_state=42\n",
    ")\n",
    "X_test_quality = X_test_quality.reindex(columns=X_train_quality.columns, fill_value=0)"
   ]
  },
  {
   "cell_type": "code",
   "execution_count": 8,
   "metadata": {},
   "outputs": [
    {
     "name": "stdout",
     "output_type": "stream",
     "text": [
      "Inspection Score Prediction - MAE: 4.659522872602065\n",
      "Inspection Score Prediction - RMSE: 6.344301205015721\n"
     ]
    }
   ],
   "source": [
    "# Step 6: Train and Evaluate Models\n",
    "\n",
    "# Model 1: Inspection Score Prediction (Regression)\n",
    "regressor = RandomForestRegressor(random_state=42)\n",
    "regressor.fit(X_train_score, y_train_score)\n",
    "y_pred_score = regressor.predict(X_test_score)\n",
    "print(\"Inspection Score Prediction - MAE:\", mean_absolute_error(y_test_score, y_pred_score))\n",
    "print(\"Inspection Score Prediction - RMSE:\", np.sqrt(mean_squared_error(y_test_score, y_pred_score)))\n"
   ]
  },
  {
   "cell_type": "code",
   "execution_count": 10,
   "metadata": {},
   "outputs": [
    {
     "name": "stdout",
     "output_type": "stream",
     "text": [
      "Violation Risk Classification - Accuracy: 0.460949882494398\n",
      "Violation Risk Classification - Report:\n",
      "                precision    recall  f1-score   support\n",
      "\n",
      "    High Risk       0.18      0.05      0.08      2543\n",
      "     Low Risk       0.50      0.76      0.60      8919\n",
      "Moderate Risk       0.39      0.23      0.28      6835\n",
      "\n",
      "     accuracy                           0.46     18297\n",
      "    macro avg       0.36      0.35      0.32     18297\n",
      " weighted avg       0.41      0.46      0.41     18297\n",
      "\n"
     ]
    }
   ],
   "source": [
    "# Model 2: Violation Risk Classification\n",
    "classifier_risk = RandomForestClassifier(random_state=42)\n",
    "classifier_risk.fit(X_train_risk, y_train_risk)\n",
    "y_pred_risk = classifier_risk.predict(X_test_risk)\n",
    "print(\"Violation Risk Classification - Accuracy:\", accuracy_score(y_test_risk, y_pred_risk))\n",
    "print(\"Violation Risk Classification - Report:\\n\", classification_report(y_test_risk, y_pred_risk))\n"
   ]
  },
  {
   "cell_type": "code",
   "execution_count": 12,
   "metadata": {},
   "outputs": [
    {
     "name": "stdout",
     "output_type": "stream",
     "text": [
      "Good Quality Prediction Next Year - Accuracy: 0.6951433220678432\n",
      "Good Quality Prediction Next Year - Report:\n",
      "               precision    recall  f1-score   support\n",
      "\n",
      "         0.0       0.69      0.97      0.81     10501\n",
      "         1.0       0.73      0.18      0.28      5477\n",
      "\n",
      "    accuracy                           0.70     15978\n",
      "   macro avg       0.71      0.57      0.54     15978\n",
      "weighted avg       0.70      0.70      0.63     15978\n",
      "\n"
     ]
    }
   ],
   "source": [
    "# Model 3: Good Quality Prediction Next Year\n",
    "classifier_quality = RandomForestClassifier(random_state=42)\n",
    "classifier_quality.fit(X_train_quality, y_train_quality)\n",
    "y_pred_quality = classifier_quality.predict(X_test_quality)\n",
    "print(\"Good Quality Prediction Next Year - Accuracy:\", accuracy_score(y_test_quality, y_pred_quality))\n",
    "print(\"Good Quality Prediction Next Year - Report:\\n\", classification_report(y_test_quality, y_pred_quality))"
   ]
  },
  {
   "cell_type": "code",
   "execution_count": null,
   "metadata": {},
   "outputs": [],
   "source": []
  }
 ],
 "metadata": {
  "kernelspec": {
   "display_name": "Python 3 (ipykernel)",
   "language": "python",
   "name": "python3"
  },
  "language_info": {
   "codemirror_mode": {
    "name": "ipython",
    "version": 3
   },
   "file_extension": ".py",
   "mimetype": "text/x-python",
   "name": "python",
   "nbconvert_exporter": "python",
   "pygments_lexer": "ipython3",
   "version": "3.12.7"
  }
 },
 "nbformat": 4,
 "nbformat_minor": 4
}
